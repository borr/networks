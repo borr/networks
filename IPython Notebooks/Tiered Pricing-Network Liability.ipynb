{
 "metadata": {
  "name": "",
  "signature": "sha256:9613c957ac2fc3161e4ab24e173eb34f73dc26b5cc608ccc44cbd9076eba4924"
 },
 "nbformat": 3,
 "nbformat_minor": 0,
 "worksheets": [
  {
   "cells": [
    {
     "cell_type": "heading",
     "level": 1,
     "metadata": {},
     "source": [
      "Tiered Pricing"
     ]
    },
    {
     "cell_type": "markdown",
     "metadata": {},
     "source": [
      "ISPs sell contracts to other (customer) ISPs, transit ISPs implement policies which price traffic by volume or by destination with volume discount and cheaper prices to destinations which cost them less. The studies destination based tiered pricing with the idea that ISPs should unbundle traffic and sell pricing in tiers according to destination to maximise profits.\n",
      "\n",
      "A useful taxonomy of current bundles sold by transit ISPs:\n",
      "\n",
      "* \u201cTransit\u201d \u2013 conventional transit pricing, sold at a blended rate for all traffic to all destinations ($/Mbps/month). Blended rates have been decreasing at 30% each year historically.\n",
      "\n",
      "* \u201cPaid peering\u201d \u2013 like conventional peering but one network pays to reach the other. off-net (destinations outside its network) and on-net (destinations within its network) may be charged at different rates. E.g. national ISPs selling local connectivity at a discount.\n",
      "\n",
      "* \u201cBackplane peering\u201d \u2013 an ISP sells global transit through its background but discounts traffic it can offload to peers at same Internet exchange. Smaller ISPs may buy this if they cannot get settlement-free peering at exchange.\n",
      "\n",
      "* \u201cRegional pricing\u201d \u2013 transit providers price different geographical regions differently. Typically, one or two extra price levels are used for regions."
     ]
    },
    {
     "cell_type": "code",
     "collapsed": false,
     "input": [
      "import pandas as pd\n",
      "import numpy as np\n",
      "import seaborn as sns\n",
      "import sympy as sym\n",
      "from IPython.display import FileLink\n",
      "from scipy.stats import variation\n",
      "flows = pd.read_pickle(\"flows_hourly\")"
     ],
     "language": "python",
     "metadata": {},
     "outputs": [],
     "prompt_number": 1
    },
    {
     "cell_type": "markdown",
     "metadata": {},
     "source": [
      "Consider a transit market with multiple ISPs and customers. Each ISP is rational and maximizes its profit, which is expressed as the difference between its revenue and costs, where $p_{i}$ is the price an ISP sets to deliver flow i, $c_{i}$ is the unit\n",
      "cost for i, and $Q_{i}(\\hat{P})$ is the demand for i given a vector of prices\n",
      "$\\hat{P} = (p1, p2, . . . , pn)$:"
     ]
    },
    {
     "cell_type": "heading",
     "level": 2,
     "metadata": {},
     "source": [
      "Cost Models"
     ]
    },
    {
     "cell_type": "heading",
     "level": 3,
     "metadata": {},
     "source": [
      "Aggregate"
     ]
    },
    {
     "cell_type": "markdown",
     "metadata": {},
     "source": [
      "Each link in the network has been assigned an OPEX cost based on its capacity (in multiples of 10Gbps) and the associated vertex router pair locations, these are listed below."
     ]
    },
    {
     "cell_type": "markdown",
     "metadata": {},
     "source": [
      "The mechanism considered while attributing costs is as follows:\n",
      "\n",
      "* **No customer liability: where each customer is attributed the cost of the links it uses based on a fixed cost per Mbps on the links regardless of link utilization.**\n",
      "\n",
      "Finally, the cost of on-net flows (customer-customer) are attributed equally on both sides, i.e. source and destination, while off-net flow costs (customer-peer) are assigned to the only customer present."
     ]
    },
    {
     "cell_type": "code",
     "collapsed": false,
     "input": [
      "location_cost = pd.read_csv(\"location_to_location_cost\", names = ['source','destination','unit_cost($/Mbps)'])\n",
      "location_cost['OPEX'] = location_cost['unit_cost($/Mbps)']*10000\n",
      "location_cost.head(15)"
     ],
     "language": "python",
     "metadata": {},
     "outputs": [
      {
       "html": [
        "<div style=\"max-height:1000px;max-width:1500px;overflow:auto;\">\n",
        "<table border=\"1\" class=\"dataframe\">\n",
        "  <thead>\n",
        "    <tr style=\"text-align: right;\">\n",
        "      <th></th>\n",
        "      <th>source</th>\n",
        "      <th>destination</th>\n",
        "      <th>unit_cost($/Mbps)</th>\n",
        "      <th>OPEX</th>\n",
        "    </tr>\n",
        "  </thead>\n",
        "  <tbody>\n",
        "    <tr>\n",
        "      <th>0 </th>\n",
        "      <td> NORTH AMERICA</td>\n",
        "      <td>   NORTH AMERICA</td>\n",
        "      <td> 0.10</td>\n",
        "      <td>  1000</td>\n",
        "    </tr>\n",
        "    <tr>\n",
        "      <th>1 </th>\n",
        "      <td> NORTH AMERICA</td>\n",
        "      <td>          EUROPE</td>\n",
        "      <td> 0.25</td>\n",
        "      <td>  2500</td>\n",
        "    </tr>\n",
        "    <tr>\n",
        "      <th>2 </th>\n",
        "      <td> NORTH AMERICA</td>\n",
        "      <td>   SOUTH AMERICA</td>\n",
        "      <td> 0.10</td>\n",
        "      <td>  1000</td>\n",
        "    </tr>\n",
        "    <tr>\n",
        "      <th>3 </th>\n",
        "      <td> NORTH AMERICA</td>\n",
        "      <td>            ASIA</td>\n",
        "      <td> 1.62</td>\n",
        "      <td> 16200</td>\n",
        "    </tr>\n",
        "    <tr>\n",
        "      <th>4 </th>\n",
        "      <td> NORTH AMERICA</td>\n",
        "      <td> CENTRAL AMERICA</td>\n",
        "      <td> 0.10</td>\n",
        "      <td>  1000</td>\n",
        "    </tr>\n",
        "    <tr>\n",
        "      <th>5 </th>\n",
        "      <td>        EUROPE</td>\n",
        "      <td>   NORTH AMERICA</td>\n",
        "      <td> 0.25</td>\n",
        "      <td>  2500</td>\n",
        "    </tr>\n",
        "    <tr>\n",
        "      <th>6 </th>\n",
        "      <td>        EUROPE</td>\n",
        "      <td>          EUROPE</td>\n",
        "      <td> 0.09</td>\n",
        "      <td>   900</td>\n",
        "    </tr>\n",
        "    <tr>\n",
        "      <th>7 </th>\n",
        "      <td>        EUROPE</td>\n",
        "      <td>   SOUTH AMERICA</td>\n",
        "      <td> 0.25</td>\n",
        "      <td>  2500</td>\n",
        "    </tr>\n",
        "    <tr>\n",
        "      <th>8 </th>\n",
        "      <td>        EUROPE</td>\n",
        "      <td>            ASIA</td>\n",
        "      <td> 1.40</td>\n",
        "      <td> 14000</td>\n",
        "    </tr>\n",
        "    <tr>\n",
        "      <th>9 </th>\n",
        "      <td>        EUROPE</td>\n",
        "      <td> CENTRAL AMERICA</td>\n",
        "      <td> 0.25</td>\n",
        "      <td>  2500</td>\n",
        "    </tr>\n",
        "    <tr>\n",
        "      <th>10</th>\n",
        "      <td> SOUTH AMERICA</td>\n",
        "      <td>   NORTH AMERICA</td>\n",
        "      <td> 0.10</td>\n",
        "      <td>  1000</td>\n",
        "    </tr>\n",
        "    <tr>\n",
        "      <th>11</th>\n",
        "      <td> SOUTH AMERICA</td>\n",
        "      <td>          EUROPE</td>\n",
        "      <td> 0.25</td>\n",
        "      <td>  2500</td>\n",
        "    </tr>\n",
        "    <tr>\n",
        "      <th>12</th>\n",
        "      <td> SOUTH AMERICA</td>\n",
        "      <td>   SOUTH AMERICA</td>\n",
        "      <td> 1.62</td>\n",
        "      <td> 16200</td>\n",
        "    </tr>\n",
        "    <tr>\n",
        "      <th>13</th>\n",
        "      <td> SOUTH AMERICA</td>\n",
        "      <td>            ASIA</td>\n",
        "      <td> 1.62</td>\n",
        "      <td> 16200</td>\n",
        "    </tr>\n",
        "    <tr>\n",
        "      <th>14</th>\n",
        "      <td> SOUTH AMERICA</td>\n",
        "      <td> CENTRAL AMERICA</td>\n",
        "      <td> 0.10</td>\n",
        "      <td>  1000</td>\n",
        "    </tr>\n",
        "  </tbody>\n",
        "</table>\n",
        "</div>"
       ],
       "metadata": {},
       "output_type": "pyout",
       "prompt_number": 2,
       "text": [
        "           source      destination  unit_cost($/Mbps)   OPEX\n",
        "0   NORTH AMERICA    NORTH AMERICA               0.10   1000\n",
        "1   NORTH AMERICA           EUROPE               0.25   2500\n",
        "2   NORTH AMERICA    SOUTH AMERICA               0.10   1000\n",
        "3   NORTH AMERICA             ASIA               1.62  16200\n",
        "4   NORTH AMERICA  CENTRAL AMERICA               0.10   1000\n",
        "5          EUROPE    NORTH AMERICA               0.25   2500\n",
        "6          EUROPE           EUROPE               0.09    900\n",
        "7          EUROPE    SOUTH AMERICA               0.25   2500\n",
        "8          EUROPE             ASIA               1.40  14000\n",
        "9          EUROPE  CENTRAL AMERICA               0.25   2500\n",
        "10  SOUTH AMERICA    NORTH AMERICA               0.10   1000\n",
        "11  SOUTH AMERICA           EUROPE               0.25   2500\n",
        "12  SOUTH AMERICA    SOUTH AMERICA               1.62  16200\n",
        "13  SOUTH AMERICA             ASIA               1.62  16200\n",
        "14  SOUTH AMERICA  CENTRAL AMERICA               0.10   1000"
       ]
      }
     ],
     "prompt_number": 2
    },
    {
     "cell_type": "code",
     "collapsed": false,
     "input": [
      "FileLink('Network Cost Model.ipynb')"
     ],
     "language": "python",
     "metadata": {},
     "outputs": [
      {
       "html": [
        "<a href='Network Cost Model.ipynb' target='_blank'>Network Cost Model.ipynb</a><br>"
       ],
       "metadata": {},
       "output_type": "pyout",
       "prompt_number": 3,
       "text": [
        "/home/anant/IPython/Network Cost Model.ipynb"
       ]
      }
     ],
     "prompt_number": 3
    },
    {
     "cell_type": "heading",
     "level": 3,
     "metadata": {},
     "source": [
      "Shapley"
     ]
    },
    {
     "cell_type": "markdown",
     "metadata": {},
     "source": [
      "Computation in progress, deferred."
     ]
    },
    {
     "cell_type": "heading",
     "level": 2,
     "metadata": {},
     "source": [
      "Demand Models"
     ]
    },
    {
     "cell_type": "markdown",
     "metadata": {},
     "source": [
      "To compute profit for the Service Provider, one must understand how price changes lead to different demands for a given consumer. The demand functions may be interpreted as either the inherent demand or the residual demand, which not only represents the inherent demand but also accounts for the availability of substitutes. Consider these families of demand functions:"
     ]
    },
    {
     "cell_type": "markdown",
     "metadata": {},
     "source": [
      "The coefficient of variation (CV) is a normalized measure of dispersion. It is defined as the ratio of the standard deviation $\\sigma$ to the mean $\\mu$. CV is a standard indicator of the amount of variability for demand and cost of flows and hence impacts the pricing tiers:"
     ]
    },
    {
     "cell_type": "code",
     "collapsed": false,
     "input": [
      "flows['unit_cost'] = flows['cost']/flows['speed']\n",
      "CV_demand = variation(flows['speed'])\n",
      "CV_cost = variation(flows['unit_cost'])\n",
      "print CV_demand,CV_cost"
     ],
     "language": "python",
     "metadata": {},
     "outputs": [
      {
       "output_type": "stream",
       "stream": "stdout",
       "text": [
        "16.2874354407 0.817036945373\n"
       ]
      }
     ],
     "prompt_number": 4
    },
    {
     "cell_type": "heading",
     "level": 3,
     "metadata": {},
     "source": [
      "A. Constant Elasticity Demand"
     ]
    },
    {
     "cell_type": "markdown",
     "metadata": {},
     "source": [
      "This is derived from the alpha-fair utility function, which is often used to model consumer utility on the internet. The alpha-fair utility takes the form of a concave increasing utility function, which emulates a decreasing marginal benefit to additional bandwidth for a user. Flow demands are assumed separable (i.e. changes in demand or prices for one flow have no effect on demand and prices of other flows). Constant elasticity demand represents a constant price elasticity across flows (or groups of flows), $\\alpha$. This is replicated in a scenario where consumers do not have enough choices, or the market is monopolistic:\n",
      "\n",
      "$$Q_{i}(p_{i}) = (\\frac{v_{i}}{p_{i}})^\\alpha$$"
     ]
    },
    {
     "cell_type": "code",
     "collapsed": false,
     "input": [
      "fig = plt.figure(figsize=(16,5))\n",
      "demand = np.arange(0,3,0.1)\n",
      "vals, alphas = [1.0,2.0,3.0], [1.5, 2.0, 3.0]\n",
      "ax1 = fig.add_subplot(121)\n",
      "for val in vals:\n",
      "    p = val/demand**(1/alphas[0])\n",
      "    ax1.plot(demand,p,'--',label=\"val=%d\"%val)\n",
      "    ax1.legend()\n",
      "    plt.xlabel(\"Quantity\")\n",
      "    plt.ylabel(\"Price\")\n",
      "    plt.title(\"alpha=%0.1f\"%alphas[0])\n",
      "    \n",
      "ax2 = fig.add_subplot(122)\n",
      "for alpha in alphas:\n",
      "    p = vals[0]/demand**(1/alpha)\n",
      "    ax2.plot(demand,p,'--',label=\"alpha=%0.01f\"%alpha)\n",
      "    ax2.legend()\n",
      "    plt.xlabel(\"Quantity\")\n",
      "    plt.ylabel(\"Price\")\n",
      "    plt.title(\"val=%0.1f\"%vals[0])"
     ],
     "language": "python",
     "metadata": {},
     "outputs": [
      {
       "metadata": {},
       "output_type": "display_data",
       "png": "[encoded data removed]",
       "text": [
        "<matplotlib.figure.Figure at 0x7fb4b1218550>"
       ]
      }
     ],
     "prompt_number": 5
    },
    {
     "cell_type": "heading",
     "level": 4,
     "metadata": {},
     "source": [
      "Price Sensitivity"
     ]
    },
    {
     "cell_type": "markdown",
     "metadata": {},
     "source": [
      "The degree to which the price of a product affects consumers purchasing behaviors is referred to as the price sensitivity. In this case, $\\alpha$. The degree of price sensitivity varies from consumer to consumer. It is commonly measured using the price elasticity of demand, which in this case is: $-\\alpha$. For a given flow with demand of $q_{i}$, unit cost $c_{i}$ and a blended rate charged $P_{0}$ : \n",
      "\n",
      "$$\\alpha = \\frac{\\sum{P_{0}q_{i}}}{\\sum{P_{0}q_{i}} - \\sum{c_{i}q_{i}}}$$"
     ]
    },
    {
     "cell_type": "code",
     "collapsed": false,
     "input": [
      "P0=0.4\n",
      "alpha_ced = sum(P0*flows['speed'])/(sum(P0*flows['speed']) - sum(flows['cost']))\n",
      "print alpha_ced"
     ],
     "language": "python",
     "metadata": {},
     "outputs": [
      {
       "output_type": "stream",
       "stream": "stdout",
       "text": [
        "2.77082784283\n"
       ]
      }
     ],
     "prompt_number": 6
    },
    {
     "cell_type": "heading",
     "level": 4,
     "metadata": {},
     "source": [
      "Valuation Coefficients"
     ]
    },
    {
     "cell_type": "markdown",
     "metadata": {},
     "source": [
      "These indicate the valuation of a flow \"i\". It is required as a parameter in the demand models as described above and ultimately serve in computation of the service providers profit. For constant elasticity demand, assume the service provider charges the same blended rate $P_{0}$ for every flow, get valuation coefficients based on the formula listed, compute the scaling parameter, $\\gamma$ and scale costs according to price:"
     ]
    },
    {
     "cell_type": "code",
     "collapsed": false,
     "input": [
      "flows['val_ced'] = pow(flows['speed'],1/alpha_ced)*P0\n",
      "gamma = P0*(alpha_ced-1)*sum(pow(flows['val_ced'],alpha_ced))/(alpha_ced*sum(flows['unit_cost']*pow(flows['val_ced'],alpha_ced)))\n",
      "flows['unit_cost'] = gamma*flows['unit_cost']\n",
      "current_profit = sum((P0 - flows['unit_cost'])*flows['speed'])\n",
      "print current_profit, gamma"
     ],
     "language": "python",
     "metadata": {},
     "outputs": [
      {
       "output_type": "stream",
       "stream": "stdout",
       "text": [
        "3.09939158556e+12 0.999999999996\n"
       ]
      }
     ],
     "prompt_number": 7
    },
    {
     "cell_type": "heading",
     "level": 3,
     "metadata": {},
     "source": [
      "Optimal Blended Price"
     ]
    },
    {
     "cell_type": "markdown",
     "metadata": {},
     "source": [
      "Assume each flow is charged with the same blended price $P_{0}$. This is the bundle price to be used in various bundling strategies described later. It follows the optimal price assumption in the current network model and the parameter alpha is derived from this. In a scenario with some flows bundled, the profit maximizing price for the network with constant elasticity demand is:\n",
      "\n",
      "$$P_{0} = \\frac{\\alpha}{\\alpha - 1}\\frac{\\sum_{i=1}^{n}{c_{i}v_{i}^{\\alpha}}}{\\sum_{i=1}^{n}{v_{i}^{\\alpha}}}$$"
     ]
    },
    {
     "cell_type": "code",
     "collapsed": false,
     "input": [
      "P_ = alpha_ced*sum(pow(flows['val_ced'],alpha_ced)*flows['unit_cost'])/((alpha_ced-1)*sum(pow(flows['val_ced'],alpha_ced)))\n",
      "flows['blended_demand'] = pow(flows['val_ced']/P_,alpha_ced)\n",
      "profit_ = sum((P_- flows['unit_cost'])*flows['blended_demand'])\n",
      "print P_, profit_"
     ],
     "language": "python",
     "metadata": {},
     "outputs": [
      {
       "output_type": "stream",
       "stream": "stdout",
       "text": [
        "0.4 3.09939158556e+12\n"
       ]
      }
     ],
     "prompt_number": 8
    },
    {
     "cell_type": "heading",
     "level": 3,
     "metadata": {},
     "source": [
      "Optimal Discriminated Price"
     ]
    },
    {
     "cell_type": "markdown",
     "metadata": {},
     "source": [
      "The profit maximizing price for each flow with constant elasticity demand is found by differentiating the profit function. This is the optimal profit maximizing price that achieves perfect discrimation across flows in time, i.e. an infinite bundles. This price leads to obtaining maximum possible profit in the network, given a parameter setting. Obviously, this is not practical to implement, rather it serves as the benchmark of comparison for optimality : \n",
      "\n",
      "$$\\hat{p_{i}} = \\frac{\\alpha}{\\alpha - 1}*c_{i}$$"
     ]
    },
    {
     "cell_type": "code",
     "collapsed": false,
     "input": [
      "flows['opt_price_ced'] = alpha_ced*flows['unit_cost']/(alpha_ced-1)\n",
      "flows['opt_demand'] = pow(flows['val_ced']/flows['opt_price_ced'],alpha_ced)\n",
      "max_profit = sum((flows['opt_price_ced'] - flows['unit_cost'])*flows['opt_demand'])\n",
      "print flows['opt_price_ced'].median(), max_profit"
     ],
     "language": "python",
     "metadata": {},
     "outputs": [
      {
       "output_type": "stream",
       "stream": "stdout",
       "text": [
        "0.469412288589 1.10586736404e+13\n"
       ]
      }
     ],
     "prompt_number": 9
    },
    {
     "cell_type": "code",
     "collapsed": false,
     "input": [
      "def optimal_price(flows, alpha):\n",
      "    return alpha*sum(pow(flows['val_ced'],alpha)*flows['unit_cost'])/((alpha-1)*sum(pow(flows['val_ced'],alpha)))\n",
      "\n",
      "def get_profit(flows,p):\n",
      "    return sum((p-flows['unit_cost'])*pow(flows['val_ced']/p,alpha_ced))"
     ],
     "language": "python",
     "metadata": {},
     "outputs": [],
     "prompt_number": 10
    },
    {
     "cell_type": "heading",
     "level": 3,
     "metadata": {},
     "source": [
      "B. Logit Demand"
     ]
    },
    {
     "cell_type": "markdown",
     "metadata": {},
     "source": [
      "The logit demand model assumes that each consumer faces a discrete choice among a set of available goods or services. In the context of data transit, the choice is between different destinations or flows. A consumer \"j\" using flow \"i\" with price elasticity $\\alpha$ and idiosyncratic preference $\\epsilon_{ij}$ has utility:\n",
      "\n",
      "$$u_{ij} = \\alpha(v_{i} - p_{i}) + \\epsilon_{ij}$$"
     ]
    },
    {
     "cell_type": "markdown",
     "metadata": {},
     "source": [
      "The logit model defines the probability that any given consumer will use flow \"i\" as a function of the price vector of all flows, this is also referred to as the \"market share\" of flow \"i\":\n",
      "\n",
      "$$s_{i}(P) = \\frac{e^{\\alpha(v_{i}-p_{i})}}{\\sum_{j}e^{\\alpha(v_{j}-p_{j})} + 1}$$"
     ]
    },
    {
     "cell_type": "code",
     "collapsed": false,
     "input": [
      "fig = plt.figure(figsize=(16,5))\n",
      "p = np.arange(0,3,0.1)\n",
      "vals, alphas = [1.0,2.0,3.0], [1.5, 2.0, 3.0]\n",
      "ax1 = fig.add_subplot(121)\n",
      "for val in vals:\n",
      "    demand = np.exp(alphas[0]*(val - p))/(1+np.exp(alphas[0]*(val - p)))\n",
      "    ax1.plot(demand,p,'--',label=\"val=%d\"%val)\n",
      "    ax1.legend()\n",
      "    plt.xlabel(\"Quantity\")\n",
      "    plt.ylabel(\"Price\")\n",
      "    plt.title(\"alpha=%0.1f\"%alphas[0])\n",
      "    \n",
      "ax2 = fig.add_subplot(122)\n",
      "for alpha in alphas:\n",
      "    demand = np.exp(alpha*(vals[0] - p))/(1+np.exp(alpha*(vals[0] - p)))\n",
      "    ax2.plot(demand,p,'--',label=\"alpha=%0.01f\"%alpha)\n",
      "    ax2.legend()\n",
      "    plt.xlabel(\"Quantity\")\n",
      "    plt.ylabel(\"Price\")\n",
      "    plt.title(\"val=%0.1f\"%vals[0])"
     ],
     "language": "python",
     "metadata": {},
     "outputs": [
      {
       "metadata": {},
       "output_type": "display_data",
       "png": "[encoded data removed]",
       "text": [
        "<matplotlib.figure.Figure at 0x7fb4b1155a90>"
       ]
      }
     ],
     "prompt_number": 11
    },
    {
     "cell_type": "heading",
     "level": 4,
     "metadata": {},
     "source": [
      "Valuation Coefficients"
     ]
    },
    {
     "cell_type": "markdown",
     "metadata": {},
     "source": [
      "The Valuation Coefficient in case of logit-demand models, $v_{i}$, is the \u201caverage\u201d consumer\u2019s maximum willingness to pay for flow \"i\". Compute valuation coefficients by assuming initial blended pricing, $P_{0}$ and assuming an traffic share for traffic not sent, $s_{0}$, as a sensitivity parameter :\n",
      "\n",
      "$$v_{i} = \\frac{log(s_{i}) - log(s_{0})}{\\alpha} + P_{0}$$"
     ]
    },
    {
     "cell_type": "code",
     "collapsed": false,
     "input": [
      "s0 = 0.4\n",
      "N = sum(flows['speed'])/(1-s0)\n",
      "flows['si_blended'] = flows['speed']/N\n",
      "alpha_logit = 1/(s0*(P0 - (sum(flows['unit_cost']*flows['speed'])/sum(flows['speed']))))\n",
      "print alpha_logit, N\n",
      "flows['val_logit'] = ((np.log(flows['si_blended']) - np.log(s0))/alpha_logit) + P0"
     ],
     "language": "python",
     "metadata": {},
     "outputs": [
      {
       "output_type": "stream",
       "stream": "stdout",
       "text": [
        "17.3176740178 3.57828354212e+13\n"
       ]
      }
     ],
     "prompt_number": 12
    },
    {
     "cell_type": "heading",
     "level": 3,
     "metadata": {},
     "source": [
      "Optimal Discriminated Price"
     ]
    },
    {
     "cell_type": "markdown",
     "metadata": {},
     "source": [
      "The profit maximizing price for each flow with logit demand is found by differentiating the profit function. This optimal profit maximizing price achieves perfect discrimation across flows in time, i.e. an infinite bundles. Due to the presence of $s_{0}$, $p_{i}$ recursively depends on itself and on profit-maximizing prices of other flows. Again, this is not practical to implement :\n",
      "\n",
      "$$ p_{i} = c_{i} + \\frac{1}{\\alpha s_{0}}$$"
     ]
    },
    {
     "cell_type": "code",
     "collapsed": false,
     "input": [
      "num = sum(np.exp(alpha_logit*(flows['val_logit'] - flows['unit_cost'])))\n",
      "x = sym.symbols('x')\n",
      "sol = sym.solve(x - 1 - (num/sym.exp(x)), x)\n",
      "k = sol/alpha_logit\n",
      "margin = np.around(float(k[0]),decimals=3)\n",
      "print margin"
     ],
     "language": "python",
     "metadata": {},
     "outputs": [
      {
       "output_type": "stream",
       "stream": "stdout",
       "text": [
        "0.227\n"
       ]
      }
     ],
     "prompt_number": 13
    },
    {
     "cell_type": "markdown",
     "metadata": {},
     "source": [
      "Hence the optimal price is $c_{i} + k$ for each flow. To compute the optimal profit for the Service Provider, use the logit-demand model for \"N\" consumers:\n",
      "\n",
      "$$\\Pi(\\hat{P}) = N \\sum_{p_{i} \\in \\hat{P}}{s_{i}(\\hat{P})(p_{i}-c_{i})}$$"
     ]
    },
    {
     "cell_type": "code",
     "collapsed": false,
     "input": [
      "flows['opt_price_logit'] = flows['unit_cost'] + margin\n",
      "den = sum(np.exp(alpha_logit*(flows['val_logit'] - flows['opt_price_logit'])))\n",
      "flows['opt_si'] = np.exp(alpha_logit*(flows['val_logit'] - flows['opt_price_logit']))/(1+den)\n",
      "max_profit_logit = N*sum(flows['opt_si']*margin)\n",
      "opt_s0 = 1 - sum(flows['opt_si'])\n",
      "print max_profit_logit,opt_s0"
     ],
     "language": "python",
     "metadata": {},
     "outputs": [
      {
       "output_type": "stream",
       "stream": "stdout",
       "text": [
        "6.06561417467e+12 0.253251818232\n"
       ]
      }
     ],
     "prompt_number": 14
    },
    {
     "cell_type": "markdown",
     "metadata": {},
     "source": [
      "Let $p_{i} - c_{i} = constant = \"k\" $; This is constant as both $\\alpha$ and $s_{0}$ are consistent across flows. Thus each flow is trying to solve the equation expressed above as:\n",
      "\n",
      "$$\\alpha k - 1 = \\frac{\\sum_{i}e^{\\alpha (v_{i} - c_{i})}}{e^{\\alpha k}}$$"
     ]
    },
    {
     "cell_type": "code",
     "collapsed": false,
     "input": [
      "def optimal_price_logit(flows, alpha_logit):\n",
      "    n = len(pd.unique(flows['bundle']))\n",
      "    bundle_cost, bundle_val = np.zeros(n), np.zeros(n)\n",
      "    for i in range(1,n+1):\n",
      "        bundle = flows[flows['bundle'] == i]\n",
      "        bundle_cost[i-1] = sum(bundle['unit_cost']*np.exp(alpha_logit*bundle['val_logit']))/sum(np.exp(alpha_logit*bundle['val_logit']))\n",
      "        bundle_val[i-1] = np.log(sum(np.exp(alpha_logit*bundle['val_logit'])))/alpha_logit\n",
      "    num = sum(np.exp(alpha_logit*(bundle_val - bundle_cost)))\n",
      "    sol = sym.solve(x - 1 - (num/sym.exp(x)), x)\n",
      "    k = sol/alpha_logit\n",
      "    margin = np.around(float(k[0]),decimals=3)\n",
      "    return (margin + bundle_cost)\n",
      "\n",
      "def get_profit_logit(flows, alpha_logit):\n",
      "    den = np.zeros(n)\n",
      "    s0_bundle = 1/(1+sum(np.exp(alpha_logit*(flows['val_logit'] - flows['bundle_price']))))\n",
      "    flows['bundle_si'] = np.exp(alpha_logit*(flows['val_logit'] - flows['bundle_price']))*s0_bundle\n",
      "    return sum((flows['bundle_price']-flows['unit_cost'])*flows['bundle_si']*N)"
     ],
     "language": "python",
     "metadata": {},
     "outputs": [],
     "prompt_number": 15
    },
    {
     "cell_type": "heading",
     "level": 3,
     "metadata": {},
     "source": [
      "Optimal Blended Price"
     ]
    },
    {
     "cell_type": "markdown",
     "metadata": {},
     "source": [
      "Assume each flow is charged with the same blended price $P_{0}$. This follows the optimal price assumption in the current network model and the parameter alpha is derived from this. In a scenario with flows bundled, the valuation coefficient and unit cost for the bundle are derived as:\n",
      "\n",
      "$$v_{bundle} = \\frac{\\log({\\sum_{i=1}^{n}{e^{\\alpha v_{i}}}})}{\\alpha};  c_{bundle} = \\frac{\\sum_{i=1}^{n}c_{i} e^{\\alpha v_{i}}}{\\sum_{i=1}^{n} e^{\\alpha v_{i}}}$$"
     ]
    },
    {
     "cell_type": "code",
     "collapsed": false,
     "input": [
      "price = sum(flows['unit_cost']*np.exp(alpha_logit*flows['val_logit']))/sum(np.exp(alpha_logit*flows['val_logit'])) + 1/(alpha_logit*s0)\n",
      "current_profit_logit = sum((price - flows['unit_cost'])*flows['speed'])\n",
      "print price, current_profit_logit"
     ],
     "language": "python",
     "metadata": {},
     "outputs": [
      {
       "output_type": "stream",
       "stream": "stdout",
       "text": [
        "0.399999999999 3.09939158553e+12\n"
       ]
      }
     ],
     "prompt_number": 16
    },
    {
     "cell_type": "heading",
     "level": 3,
     "metadata": {},
     "source": [
      "Bundling Strategies"
     ]
    },
    {
     "cell_type": "markdown",
     "metadata": {},
     "source": [
      "Various bundling strategies are employed to derive optimal pricing buckets. For a given number of bundles, n, while there does exist an optimal way to bundle the flows together to achieve maximum profit, it is computationally infeasible to arrive at. It requires computing various possible combinations of dividing distinct flows into n bundles (see Stirling Numbers of the second kind). Thus heuristic based measures, that render computation tractable are employed. \n",
      "\n",
      "The profit capture of a given bundling strategy is defined as the ratio of profit gain over the original profit from using this bundling strategy, to the max. profit gain from a complete price discrimination strategy (infinite bundles) :\n",
      "\n",
      "$$\\Pi = \\frac{P_{current} - P_{original}}{P_{max} - P_{original}}$$"
     ]
    },
    {
     "cell_type": "code",
     "collapsed": false,
     "input": [
      "bundles = {'demand':{'ced':[],'logit':[]},'cost':{'ced':[],'logit':[]},'profit':{'ced':[]},'cost_div':{'ced':[],'logit':[]},'index':{'ced':[],'logit':[]}}"
     ],
     "language": "python",
     "metadata": {},
     "outputs": [],
     "prompt_number": 17
    },
    {
     "cell_type": "heading",
     "level": 4,
     "metadata": {},
     "source": [
      "A. Demand Weighted"
     ]
    },
    {
     "cell_type": "markdown",
     "metadata": {},
     "source": [
      "In this strategy, the following algorithm groups traffic flows to \"n\" bundles: \n",
      "\n",
      "* Set the overall token budget as the sum of the original demand of all flows.\n",
      "* Assign equal budget to all bundles = overall budget/n.\n",
      "* Sort the flows in decreasing order of their demand and traverse them one-by-one.\n",
      "* When traversing flow i, assign it to the first bundle j that has a budget $t_{j} > 0$.\n",
      "* Reduce the budget of that bundle by $q_{i}$."
     ]
    },
    {
     "cell_type": "code",
     "collapsed": false,
     "input": [
      "flows.sort(columns = ['speed'], ascending=False, inplace=True)\n",
      "\n",
      "for n in range(1,7):\n",
      "    P,profit = {'ced':[],'logit':[]},{'ced':[],'logit':[]}\n",
      "    token = sum(flows['speed'])/n\n",
      "    flows['bundle'] = n\n",
      "    for i in range(1,n+1):\n",
      "        cumulative = flows[flows['bundle'] == n]['speed'].cumsum()\n",
      "        flows.loc[cumulative.reindex_like(flows) <= token, 'bundle'] = i\n",
      "        P['ced'].append(optimal_price(flows[flows['bundle']==i][['val_ced','unit_cost']],alpha_ced))\n",
      "        profit['ced'].append(get_profit(flows[flows['bundle']==i][['val_ced','unit_cost']],P['ced'][i-1]))\n",
      "    P['logit'] = optimal_price_logit(flows, alpha_logit).tolist()\n",
      "    flows['bundle_price'] = flows[['bundle']].applymap(dict(zip(range(1,1+len(P['logit'])),P['logit'])).get)\n",
      "    profit['logit'] = get_profit_logit(flows[['bundle_price','val_logit','unit_cost']],alpha_logit)\n",
      "    bundles['demand']['ced'].append(np.around((sum(profit['ced']) - current_profit)/(max_profit - current_profit),decimals=4))\n",
      "    bundles['demand']['logit'].append(np.around((sum(profit['logit']) - current_profit_logit)/(max_profit_logit - current_profit_logit),decimals=4))"
     ],
     "language": "python",
     "metadata": {},
     "outputs": [],
     "prompt_number": 18
    },
    {
     "cell_type": "heading",
     "level": 4,
     "metadata": {},
     "source": [
      "B. Cost Weighted"
     ]
    },
    {
     "cell_type": "markdown",
     "metadata": {},
     "source": [
      "A similar approach as in demand weighted bundling is used where instead of aggregating demands in assigning token budgets, use the inverse of unit costs of each flow for bundling aggregation:\n",
      "$\\pi_{i} = 1/c_{i}$"
     ]
    },
    {
     "cell_type": "code",
     "collapsed": false,
     "input": [
      "flows['inv_cost'] = 1/flows['unit_cost']\n",
      "flows.sort(columns = ['inv_cost'], ascending=False, inplace=True)\n",
      "\n",
      "for n in range(1,7):\n",
      "    P,profit = {'ced':[],'logit':[]},{'ced':[],'logit':[]}\n",
      "    token = sum(flows['inv_cost'])/n\n",
      "    flows['bundle'] = n\n",
      "    for i in range(1,n+1):\n",
      "        cumulative = flows[flows['bundle'] == n]['inv_cost'].cumsum()\n",
      "        flows.loc[cumulative.reindex_like(flows) <= token, 'bundle'] = i\n",
      "        P['ced'].append(optimal_price(flows[flows['bundle']==i][['val_ced','unit_cost']],alpha_ced))\n",
      "        profit['ced'].append(get_profit(flows[flows['bundle']==i][['val_ced','unit_cost']],P['ced'][i-1]))\n",
      "    P['logit'] = optimal_price_logit(flows, alpha_logit).tolist()\n",
      "    flows['bundle_price'] = flows[['bundle']].applymap(dict(zip(range(1,1+len(P['logit'])),P['logit'])).get)\n",
      "    profit['logit'] = get_profit_logit(flows[['bundle_price','val_logit','unit_cost']],alpha_logit)\n",
      "    bundles['cost']['ced'].append(np.around((sum(profit['ced']) - current_profit)/(max_profit - current_profit),decimals=4))\n",
      "    bundles['cost']['logit'].append(np.around((sum(profit['logit']) - current_profit_logit)/(max_profit_logit - current_profit_logit),decimals=4))"
     ],
     "language": "python",
     "metadata": {},
     "outputs": [],
     "prompt_number": 19
    },
    {
     "cell_type": "heading",
     "level": 4,
     "metadata": {},
     "source": [
      "C. Profit Weighted"
     ]
    },
    {
     "cell_type": "markdown",
     "metadata": {},
     "source": [
      "The bundling algorithms considered above use demand and cost seperately. To account for cost and demand together, estimate the potential profit for each flow using the metric and then use the same weighted algorithms as earlier:\n",
      "\n",
      "$$ \\pi_{i} = \\frac {v_{i}^{\\alpha}}{\\alpha}({\\frac{\\alpha c_{i}}{\\alpha-1}})^{1-\\alpha}$$"
     ]
    },
    {
     "cell_type": "code",
     "collapsed": false,
     "input": [
      "flows['profit'] = (pow(flows['val_ced'],alpha_ced)/alpha_ced)*pow(alpha_ced*flows['unit_cost']/(alpha_ced-1),1-alpha_ced)\n",
      "flows.sort(columns = ['profit'], ascending=False, inplace=True)\n",
      "\n",
      "for n in range(1,7):\n",
      "    P,profit = {'ced':[],'logit':[]},{'ced':[],'logit':[]}\n",
      "    token = sum(flows['profit'])/n\n",
      "    flows['bundle'] = n\n",
      "    for i in range(1,n+1):\n",
      "        cumulative = flows[flows['bundle'] == n]['profit'].cumsum()\n",
      "        flows.loc[cumulative.reindex_like(flows) <= token, 'bundle'] = i\n",
      "        P['ced'].append(optimal_price(flows[flows['bundle']==i][['val_ced','unit_cost']],alpha_ced))\n",
      "        profit['ced'].append(get_profit(flows[flows['bundle']==i][['val_ced','unit_cost']],P['ced'][i-1]))\n",
      "    bundles['profit']['ced'].append(np.around((sum(profit['ced']) - current_profit)/(max_profit - current_profit),decimals=4))"
     ],
     "language": "python",
     "metadata": {},
     "outputs": [],
     "prompt_number": 20
    },
    {
     "cell_type": "heading",
     "level": 4,
     "metadata": {},
     "source": [
      "D. Cost Division"
     ]
    },
    {
     "cell_type": "markdown",
     "metadata": {},
     "source": [
      "The most expensive flow is divided into ranges according to its cost. For example, if we want to introduce two bundles and the most expensive flow costs \\$10/Mbps/month to reach, we assign flows that cost \\$0\u2013\\$4.99 to the first bundle and flows that cost \\$5\u2013\\$10 to the second bundle."
     ]
    },
    {
     "cell_type": "code",
     "collapsed": false,
     "input": [
      "for n in range(1,7):\n",
      "    P,profit = {'ced':[],'logit':[]},{'ced':[],'logit':[]}\n",
      "    flows['bundle'] = pd.factorize(pd.cut(flows['unit_cost'],n))[0] + 1\n",
      "    for i in range(1,1+len(pd.unique(flows['bundle']))):\n",
      "        P['ced'].append(optimal_price(flows[flows['bundle']==i][['val_ced','unit_cost']],alpha_ced))\n",
      "        profit['ced'].append(get_profit(flows[flows['bundle']==i][['val_ced','unit_cost']],P['ced'][i-1]))\n",
      "    P['logit'] = optimal_price_logit(flows, alpha_logit).tolist()\n",
      "    flows['bundle_price'] = flows[['bundle']].applymap(dict(zip(range(1,1+len(P['logit'])),P['logit'])).get)\n",
      "    profit['logit'] = get_profit_logit(flows[['bundle_price','val_logit','unit_cost']],alpha_logit)\n",
      "    bundles['cost_div']['ced'].append(np.around((sum(profit['ced']) - current_profit)/(max_profit - current_profit),decimals=4))\n",
      "    bundles['cost_div']['logit'].append(np.around((sum(profit['logit']) - current_profit_logit)/(max_profit_logit - current_profit_logit),decimals=4))"
     ],
     "language": "python",
     "metadata": {},
     "outputs": [],
     "prompt_number": 21
    },
    {
     "cell_type": "heading",
     "level": 4,
     "metadata": {},
     "source": [
      "E. Index Division"
     ]
    },
    {
     "cell_type": "markdown",
     "metadata": {},
     "source": [
      "Index-division bundling is similar to cost division bundling, except that we rank flows according to their cost and use the rank, rather than the cost, to perform the division into bundles."
     ]
    },
    {
     "cell_type": "code",
     "collapsed": false,
     "input": [
      "flows['cost_index'] = flows['unit_cost'].rank()\n",
      "max_cost = flows['cost_index'].max()\n",
      "\n",
      "for n in range(1,7):\n",
      "    P,profit = {'ced':[],'logit':[]},{'ced':[],'logit':[]}\n",
      "    token = max_cost/n\n",
      "    flows['bundle'] = 1\n",
      "    for i in range(1,n+1):\n",
      "        flows.loc[flows['cost_index'] > i*token, 'bundle'] = i+1\n",
      "        P['ced'].append(optimal_price(flows[flows['bundle']==i][['val_ced','unit_cost']],alpha_ced))\n",
      "        profit['ced'].append(get_profit(flows[flows['bundle']==i][['val_ced','unit_cost']],P['ced'][i-1]))\n",
      "    P['logit'] = optimal_price_logit(flows, alpha_logit).tolist()\n",
      "    flows['bundle_price'] = flows[['bundle']].applymap(dict(zip(range(1,1+len(P['logit'])),P['logit'])).get)\n",
      "    profit['logit'] = get_profit_logit(flows[['bundle_price','val_logit','unit_cost']],alpha_logit)\n",
      "    bundles['index']['ced'].append(np.around((sum(profit['ced']) - current_profit)/(max_profit - current_profit),decimals=4))\n",
      "    bundles['index']['logit'].append(np.around((sum(profit['logit']) - current_profit_logit)/(max_profit_logit - current_profit_logit),decimals=4))"
     ],
     "language": "python",
     "metadata": {},
     "outputs": [],
     "prompt_number": 22
    },
    {
     "cell_type": "markdown",
     "metadata": {},
     "source": [
      "Here are the plots depicting profit capture vs the number of bundles used:"
     ]
    },
    {
     "cell_type": "code",
     "collapsed": false,
     "input": [
      "fig = plt.figure(figsize=(16,5))\n",
      "\n",
      "ax1 = fig.add_subplot(121)\n",
      "ax1.plot(range(1,7),bundles['demand']['ced'],'r--',label='demand',linewidth=2)\n",
      "ax1.plot(range(1,7),bundles['cost']['ced'],'b--',label='cost',linewidth=2)\n",
      "ax1.plot(range(1,7),bundles['profit']['ced'],'g--',label='profit',linewidth=2)\n",
      "ax1.plot(range(1,1+len(bundles['cost_div']['ced'])),bundles['cost_div']['ced'],'m--',label='cost division',linewidth=2)\n",
      "ax1.plot(range(1,7),bundles['index']['ced'],'y--',label='index division',linewidth=2)\n",
      "\n",
      "plt.title(\"Constant Elasticity Demand\")\n",
      "plt.legend(loc='upper left')\n",
      "plt.xlabel(\"bundles\")\n",
      "plt.ylabel(\"profit capture\")\n",
      "\n",
      "ax2 = fig.add_subplot(122)\n",
      "ax2.plot(range(1,7),bundles['demand']['logit'],'r--',label='demand',linewidth=2)\n",
      "ax2.plot(range(1,7),bundles['cost']['logit'],'b--',label='cost',linewidth=2)\n",
      "ax2.plot(range(1,1+len(bundles['cost_div']['logit'])),bundles['cost_div']['logit'],'m--',label='cost division',linewidth=2)\n",
      "ax2.plot(range(1,7),bundles['index']['logit'],'y--',label='index division',linewidth=2)\n",
      "\n",
      "plt.title(\"Logit Demand\")\n",
      "plt.legend(loc='upper left')\n",
      "plt.xlabel(\"bundles\")\n",
      "plt.ylabel(\"profit capture\")"
     ],
     "language": "python",
     "metadata": {},
     "outputs": [
      {
       "metadata": {},
       "output_type": "pyout",
       "prompt_number": 23,
       "text": [
        "<matplotlib.text.Text at 0x7fb4357c6ed0>"
       ]
      },
      {
       "metadata": {},
       "output_type": "display_data",
       "png": "[encoded data removed]",
       "text": [
        "<matplotlib.figure.Figure at 0x7fb43593a910>"
       ]
      }
     ],
     "prompt_number": 23
    },
    {
     "cell_type": "markdown",
     "metadata": {},
     "source": [
      "Thus, with an appropriate heuristics-based bundling strategy, the ISP attains maximum profit with just 3\u20134 bundles. As expected, an optimal flow bundling strategy would capture the most profit for a given number of bundles. With only minor exceptions, the cost-weighted bundling heuristic is almost as good as the the optimal bundling, followed by the profit-weighted bundling heuristic in both constant-elasticity and logit demand models."
     ]
    },
    {
     "cell_type": "heading",
     "level": 3,
     "metadata": {},
     "source": [
      "Sensitivity Analysis:"
     ]
    },
    {
     "cell_type": "markdown",
     "metadata": {},
     "source": [
      "To explore the robustness of our results to cost models and input parameter settings, one may vary an input parameter under test keeping other parameters constant. The set of parameters, such as price of the original bundle, $P_{0}$, and in the logit model, the share of the market that corresponds to deciding not to purchase bandwidth, $s_{0}$ are analyzed to qualitatively study how sensitive the model is to the choice of these parameters. <* to be completed *>"
     ]
    },
    {
     "cell_type": "heading",
     "level": 2,
     "metadata": {},
     "source": [
      "Assumptions"
     ]
    },
    {
     "cell_type": "markdown",
     "metadata": {},
     "source": [
      "* Demand models are valid\n",
      "* Current pricing at a single blended rate $P_{0}$\n",
      "* Unit cost does not vary with pricing\n",
      "* Pricing on flow-aggregates instead of 95th percentile"
     ]
    },
    {
     "cell_type": "heading",
     "level": 2,
     "metadata": {},
     "source": [
      "Concluding Remarks"
     ]
    },
    {
     "cell_type": "markdown",
     "metadata": {},
     "source": [
      "The goal of this study is to understand how the profit that a service provider extracts from offering tiered pricing depends on the number of tiers, the bundling strategy, the network topology and demands. There is no validation of the assumptions in some aspects of cost and demand models, or even which model is most appropriate. This also assumes that the current pricing is optimally served at a blended rate. Given that the demand models are valid, the data is used to derive model parameters, such as valuation and alpha, and the profit of each strategy is evaluated across models and input parameters. What happens in a situation where the service provider is already offering a tiered pricing structure (baseline optimal) is yet to be explored. Such a scenario would require appropriate adjustments to parameter estimation in the models suggested above.\n",
      "\n",
      "As evident in the results, a service provider needs few bundles (3-4) to capture 80%-90% of the profit provided by an infinite number of bundles, provided the bundling strategy used is appropriate. The profit capture is higher in case of logit demand with fewer bundles. A bundling strategy that considers only cost is most effective. The topology and traffic of a network influences its bundling and profit capture, networks with higher coefficient of variation of demand need more bundles to extract maximum profit. Cost-division is redundant bundling -- same as blended, irrespective of how many bundles are used, this may require further examination. Index division also shows good profit capture and in some cases even better than purely cost driven bundling.\n",
      "\n",
      "Two cost models, both based on aggregate traffic, have been employed covering both liability extremes. One considers any under-utilization of resources as borne by the network (charging constant \\$/Mbps), while the other puts the liability on the consumer (charging based on utilization). Throughout the analysis it is explicitly assumed that unit cost for any flow does not change with pricing. While this may be the case in certain cost models, such as the \"complete network liability\" case, it is often violated in other cost models such as the complete customer liability case. Changing the the price would often affect the demand and hence affect the unit costs across the various flows, this may or may not be feasible in implementation. Another direction to be worked upon includes using \"Shapley\" cost models, which is based on the peak usage instead of aggregates, obviously since network capacity, being the major cost driver, is based on peaks. Another limitation that arises is when pricing is based on flow-aggregates rather than standard 95th percentiles."
     ]
    },
    {
     "cell_type": "heading",
     "level": 2,
     "metadata": {},
     "source": [
      "References"
     ]
    },
    {
     "cell_type": "markdown",
     "metadata": {},
     "source": [
      "* Valancius, Vytautas, et al. \"How many tiers?: pricing in the internet transit market.\" ACM SIGCOMM Computer Communication Review 41.4 (2011): 194-205. http://www.cc.gatech.edu/fac/Vijay.Vazirani/tier.pdf"
     ]
    }
   ],
   "metadata": {}
  }
 ]
}