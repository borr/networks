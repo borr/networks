{
 "metadata": {
  "name": ""
 },
 "nbformat": 3,
 "nbformat_minor": 0,
 "worksheets": [
  {
   "cells": [
    {
     "cell_type": "heading",
     "level": 1,
     "metadata": {},
     "source": [
      "Network Cost Analysis"
     ]
    },
    {
     "cell_type": "markdown",
     "metadata": {},
     "source": [
      "This continues from the \"Preprocessing\" IPython snippets presented earlier. Each link in the network has been assigned an OPEX cost based on its capacity (Mbps) and the associated vertex router pair locations. Two cost models have been considered while attributing costs covering the two extremes :\n",
      "\n",
      "* Complete customer liability: where each customer is attributed the cost of the links it uses in proportion of its percentage of total utilization of the links.\n",
      "* No customer liability: where each customer is attributed the cost of the links it uses based on a fixed cost per Mbps on the links regardless of link utilization."
     ]
    },
    {
     "cell_type": "markdown",
     "metadata": {},
     "source": [
      "## Variable Construction"
     ]
    },
    {
     "cell_type": "markdown",
     "metadata": {},
     "source": [
      "After preprocessing, an essential requirement is to gather enough features and minimize information loss caused upon aggregation. Load up the matrices."
     ]
    },
    {
     "cell_type": "code",
     "collapsed": false,
     "input": [
      "%pylab inline\n",
      "import pandas as pd"
     ],
     "language": "python",
     "metadata": {},
     "outputs": [
      {
       "output_type": "stream",
       "stream": "stdout",
       "text": [
        "Populating the interactive namespace from numpy and matplotlib\n"
       ]
      }
     ],
     "prompt_number": 1
    },
    {
     "cell_type": "code",
     "collapsed": false,
     "input": [
      "on_matrix = pd.read_pickle(\"on_matrix\")\n",
      "off_matrix = pd.read_pickle(\"off_matrix\")"
     ],
     "language": "python",
     "metadata": {},
     "outputs": [],
     "prompt_number": 2
    },
    {
     "cell_type": "markdown",
     "metadata": {},
     "source": [
      "Here is a hierarchy of objects that we would be iterating over to compute the relevant features"
     ]
    },
    {
     "cell_type": "code",
     "collapsed": false,
     "input": [
      "# The hierarchy\n",
      "\n",
      "levels_y = ['country','region','pop','rtr','asn']\n",
      "levels_x = ['country','region','pop','c(hops)','rtr','asn']\n",
      "measures = ['speed','hopspeed','cost','hops']\n",
      "attributes = ['sum','mean','count','median']"
     ],
     "language": "python",
     "metadata": {},
     "outputs": [],
     "prompt_number": 3
    },
    {
     "cell_type": "markdown",
     "metadata": {},
     "source": [
      "Here we compute some aggregates (attributes) at various levels described in the above hierarchy:"
     ]
    },
    {
     "cell_type": "code",
     "collapsed": false,
     "input": [
      "# loop through levels in hierarchy\n",
      "\n",
      "feature_dict = {}\n",
      "aggregate_dict = {}\n",
      "\n",
      "for measure in measures:\n",
      "    feature_dict[measure] = {}\n",
      "    aggregate_dict[measure] = {}\n",
      "    \n",
      "    for level in levels_x:\n",
      "        feature_dict[measure].update({level:{}})\n",
      "        \n",
      "        for attribute in attributes:\n",
      "            # overall aggregates\n",
      "            aggregate_dict[measure].update({attribute:eval('on_matrix[measure].%s(axis=1)'%attribute)})\n",
      "            # level aggregates\n",
      "            feature_dict[measure][level].update({attribute:eval('on_matrix[measure].%s(axis=1,level=levels_x.index(level))'%attribute)})"
     ],
     "language": "python",
     "metadata": {},
     "outputs": [],
     "prompt_number": 4
    },
    {
     "cell_type": "markdown",
     "metadata": {},
     "source": [
      "This function creates a dataframe from dictionary while preserving the level hierarchy :"
     ]
    },
    {
     "cell_type": "code",
     "collapsed": false,
     "input": [
      "def createframe(dicts,levels=2):\n",
      "    \n",
      "    l1_dict = {}\n",
      "    l2_dict = {}\n",
      "    \n",
      "    for key,value in dicts.iteritems():\n",
      "        \n",
      "        if levels == 1:\n",
      "            l1_dict.update({key:pd.concat(value.values(),axis=1,keys=value.keys())})\n",
      "\n",
      "        elif levels == 2:\n",
      "    \n",
      "            for key2,value2 in value.iteritems():\n",
      "                l2_dict.update({key2:pd.concat(value2.values(),axis=1,keys=value2.keys())})\n",
      "        \n",
      "            l1_dict.update({key:pd.concat(l2_dict.values(),axis=1,keys=l2_dict.keys())})\n",
      "        \n",
      "    frame = pd.concat(l1_dict.values(),axis=1,keys=l1_dict.keys())        \n",
      "    \n",
      "    return frame"
     ],
     "language": "python",
     "metadata": {},
     "outputs": [],
     "prompt_number": 5
    },
    {
     "cell_type": "markdown",
     "metadata": {},
     "source": [
      "Keep all aggregates in a separate dataframe."
     ]
    },
    {
     "cell_type": "code",
     "collapsed": false,
     "input": [
      "aggregate_frame = createframe(aggregate_dict,levels=1)"
     ],
     "language": "python",
     "metadata": {},
     "outputs": [],
     "prompt_number": 6
    },
    {
     "cell_type": "markdown",
     "metadata": {},
     "source": [
      "This dataframe is a sparse set of features that keeps all information."
     ]
    },
    {
     "cell_type": "code",
     "collapsed": false,
     "input": [
      "sparse_frame = createframe(feature_dict).reorder_levels([0,2,1,3],axis=1)"
     ],
     "language": "python",
     "metadata": {},
     "outputs": [],
     "prompt_number": 7
    },
    {
     "cell_type": "markdown",
     "metadata": {},
     "source": [
      "This is sparsely populated and there are efficiency limitations within most algorithms when such data is supplied. We should also consider making some non-sparse data using this frame's aggregates. Here is an attempt where levels are sorted based on attributes and the top 5 attributes' values and labels are reported, this should reduce the sparsity :"
     ]
    },
    {
     "cell_type": "code",
     "collapsed": false,
     "input": [
      "# top n Country, Region, PoP, Hops, Router and ASN (ID/Name, Attribute)\n",
      "\n",
      "top = {}\n",
      "\n",
      "def sortvalue(a, max):\n",
      "    tmp = pd.Series(data = np.array(a.order(ascending=False)[:max]), index=[\"value\"+str(s) for s in range(1,max+1)])\n",
      "    return tmp\n",
      "\n",
      "def sortindex(a, max):\n",
      "    tmp = pd.Series(data = a.order(ascending=False).index[:max], index=[\"label\"+str(s) for s in range(1,max+1)])\n",
      "    return tmp\n",
      "\n",
      "for measure in measures:\n",
      "    top[measure] = {}\n",
      "    \n",
      "    for attribute in attributes:\n",
      "        top[measure].update({attribute:{}})\n",
      "        \n",
      "        for level in levels_x:\n",
      "            top[measure][attribute].update({level: sparse_frame[measure][attribute][level].div(aggregate_frame[measure][attribute],axis=0).apply(lambda x: sortvalue(x, 5), axis=1).join(sparse_frame[measure][attribute][level].apply(lambda x: sortindex(x, 5), axis=1))})\n",
      "            \n",
      "top_frame = createframe(top)"
     ],
     "language": "python",
     "metadata": {},
     "outputs": [],
     "prompt_number": 8
    },
    {
     "cell_type": "code",
     "collapsed": false,
     "input": [
      "# save the datasets\n",
      "\n",
      "sparse_frame.to_pickle(\"sparse_frame\")\n",
      "top_frame.to_pickle(\"top_frame\")\n",
      "aggregate_frame.to_pickle(\"aggregate_frame\")"
     ],
     "language": "python",
     "metadata": {},
     "outputs": [],
     "prompt_number": 9
    },
    {
     "cell_type": "markdown",
     "metadata": {},
     "source": [
      "create IBs at different levels to be used as weights in aggregation"
     ]
    },
    {
     "cell_type": "code",
     "collapsed": false,
     "input": [
      "\"\"\"\n",
      "IB = {}\n",
      "\n",
      "for measure in measures:\n",
      "    IB[measure] = {'overall':{}}\n",
      "\n",
      "    for level in levels_y:\n",
      "        # overall aggregates\n",
      "        IB[measure]['overall'] = sparse_frame.xs((measure,'sum'),level = [0,2],axis=1).sum(axis=0)\n",
      "        # level aggregates\n",
      "        IB[measure][level] = sparse_frame.xs((measure,'sum'),level = [0,2],axis=1).sum(axis=0,level=levels_y.index(level))\n",
      "\n",
      "costper = {}\n",
      "\n",
      "for measure in measures:\n",
      "    costper[measure] = {}\n",
      "    \n",
      "    for level in levels_y:\n",
      "        # overall means\n",
      "        costper[measure].update({'overall':IB['cost']['overall'].div(IB[measure]['overall'])})\n",
      "    \n",
      "        # level means\n",
      "        costper[measure].update({\n",
      "                          level: IB['cost'][level].div(IB[measure][level])\n",
      "                          })\n",
      "        \n",
      "cost_wtd = {}\n",
      "temp = {}\n",
      "\n",
      "for measure in measures:\n",
      "    cost_wtd[measure] = {}\n",
      "    temp[measure] = {}\n",
      "    \n",
      "    for ref in levels_y:\n",
      "        cost_wtd[measure][\"ref_%s\"%ref] = {}\n",
      "        \n",
      "        for level in levels_x:\n",
      "            cost_wtd[measure][\"ref_%s\"%ref][level] = sparse_frame[measure][level]['sum'].mul(costper[measure][ref][level],level=levels_y.index(ref)).sum(axis=1)\n",
      "            \n",
      "cost_wtd_frame = createframe(cost_wtd)\n",
      "\"\"\""
     ],
     "language": "python",
     "metadata": {},
     "outputs": [
      {
       "metadata": {},
       "output_type": "pyout",
       "prompt_number": 10,
       "text": [
        "'\\nIB = {}\\n\\nfor measure in measures:\\n    IB[measure] = {\\'overall\\':{}}\\n\\n    for level in levels_y:\\n        # overall aggregates\\n        IB[measure][\\'overall\\'] = sparse_frame.xs((measure,\\'sum\\'),level = [0,2],axis=1).sum(axis=0)\\n        # level aggregates\\n        IB[measure][level] = sparse_frame.xs((measure,\\'sum\\'),level = [0,2],axis=1).sum(axis=0,level=levels_y.index(level))\\n\\ncostper = {}\\n\\nfor measure in measures:\\n    costper[measure] = {}\\n    \\n    for level in levels_y:\\n        # overall means\\n        costper[measure].update({\\'overall\\':IB[\\'cost\\'][\\'overall\\'].div(IB[measure][\\'overall\\'])})\\n    \\n        # level means\\n        costper[measure].update({\\n                          level: IB[\\'cost\\'][level].div(IB[measure][level])\\n                          })\\n        \\ncost_wtd = {}\\ntemp = {}\\n\\nfor measure in measures:\\n    cost_wtd[measure] = {}\\n    temp[measure] = {}\\n    \\n    for ref in levels_y:\\n        cost_wtd[measure][\"ref_%s\"%ref] = {}\\n        \\n        for level in levels_x:\\n            cost_wtd[measure][\"ref_%s\"%ref][level] = sparse_frame[measure][level][\\'sum\\'].mul(costper[measure][ref][level],level=levels_y.index(ref)).sum(axis=1)\\n            \\ncost_wtd_frame = createframe(cost_wtd)\\n'"
       ]
      }
     ],
     "prompt_number": 10
    }
   ],
   "metadata": {}
  }
 ]
}