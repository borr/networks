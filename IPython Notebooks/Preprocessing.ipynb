{
 "metadata": {
  "name": ""
 },
 "nbformat": 3,
 "nbformat_minor": 0,
 "worksheets": [
  {
   "cells": [
    {
     "cell_type": "heading",
     "level": 1,
     "metadata": {},
     "source": [
      "Preprocessing"
     ]
    },
    {
     "cell_type": "markdown",
     "metadata": {},
     "source": [
      "Interaction data for 1 day (18.06.2014) created by annotating netflow records and stored in the form of a BizReflex master cube, we annotate further on entity type (customer/peer), PIB (path, hops) and Costs from two distinct cost models described later:"
     ]
    },
    {
     "cell_type": "code",
     "collapsed": false,
     "input": [
      "import pandas as pd\n",
      "%matplotlib inline"
     ],
     "language": "python",
     "metadata": {},
     "outputs": [],
     "prompt_number": 1
    },
    {
     "cell_type": "code",
     "collapsed": false,
     "input": [
      "master = pd.read_csv(\"new_pib_data_1d\",names = [\"direction\",\"inIF\",\"inRTR\",\"egIF\",\"egRTR\",\"inASN\",\"egASN\",\"inPOP\",\"inRegion\",\"inCountry\",\"egPOP\",\"egRegion\",\"egCountry\",\"hops\",\"onOff\",\"bytes\",\"cost1\",\"cost\"])"
     ],
     "language": "python",
     "metadata": {},
     "outputs": [],
     "prompt_number": 2
    },
    {
     "cell_type": "markdown",
     "metadata": {},
     "source": [
      "*\"in_\"* and *\"out_\"* prefixes describe the source and destination respectively, with the suffixes \"IF\", \"RTR\", \"ASN\", \"POP\", \"Region\" and \"Country\" describing the various levels in the Network Hierarchy.\n",
      "\n",
      "Any price/cost models are built over customers at a router-interface level, hence an aggregation at these levels while minimizing information loss. A pivot table is an efficient way to change the indices at customer-interface level while retaining all the data.\n",
      "\n",
      "Some imputations have been done based on knowledge of the annotation process."
     ]
    },
    {
     "cell_type": "code",
     "collapsed": false,
     "input": [
      "from pandas.tools.pivot import pivot_table\n",
      "\n",
      "# ignore peer to peer traffic\n",
      "master = master[master['onOff'] <> 2]\n",
      "\n",
      "# treat OnOff=3 as Onnet\n",
      "master.loc[master['onOff'] == 3,\"onOff\"] = 1\n",
      "\n",
      "# convert bytes to speed (bps)\n",
      "master['speed'] = master['bytes']/24*3600\n",
      "\n",
      "# treat hops as categorical\n",
      "master['c(hops)'] = master['hops']\n",
      "\n",
      "# hopspeed = hops*speed\n",
      "master['hopspeed'] = master['hops']*master['speed']"
     ],
     "language": "python",
     "metadata": {},
     "outputs": [],
     "prompt_number": 3
    },
    {
     "cell_type": "markdown",
     "metadata": {},
     "source": [
      "Certain additional metrics have also been computed based on domain knowledge. \"Hops\" is treated as categorical as well as continuous in this process. \n",
      "\n",
      "Here are some summary statistics of the attributes considered."
     ]
    },
    {
     "cell_type": "code",
     "collapsed": false,
     "input": [
      "master[['speed','hops','cost','hopspeed']].describe()"
     ],
     "language": "python",
     "metadata": {},
     "outputs": [
      {
       "html": [
        "<div style=\"max-height:1000px;max-width:1500px;overflow:auto;\">\n",
        "<table border=\"1\" class=\"dataframe\">\n",
        "  <thead>\n",
        "    <tr style=\"text-align: right;\">\n",
        "      <th></th>\n",
        "      <th>speed</th>\n",
        "      <th>hops</th>\n",
        "      <th>cost</th>\n",
        "      <th>hopspeed</th>\n",
        "    </tr>\n",
        "  </thead>\n",
        "  <tbody>\n",
        "    <tr>\n",
        "      <th>count</th>\n",
        "      <td> 6.366340e+05</td>\n",
        "      <td> 636634.000000</td>\n",
        "      <td>  636634.000000</td>\n",
        "      <td> 6.366340e+05</td>\n",
        "    </tr>\n",
        "    <tr>\n",
        "      <th>mean</th>\n",
        "      <td> 2.251118e+11</td>\n",
        "      <td>      5.837318</td>\n",
        "      <td>     686.677007</td>\n",
        "      <td> 8.958334e+11</td>\n",
        "    </tr>\n",
        "    <tr>\n",
        "      <th>std</th>\n",
        "      <td> 3.241939e+12</td>\n",
        "      <td>      2.052375</td>\n",
        "      <td>   11434.580481</td>\n",
        "      <td> 1.076409e+13</td>\n",
        "    </tr>\n",
        "    <tr>\n",
        "      <th>min</th>\n",
        "      <td> 9.375000e+04</td>\n",
        "      <td>      2.000000</td>\n",
        "      <td>       0.000000</td>\n",
        "      <td> 3.750000e+05</td>\n",
        "    </tr>\n",
        "    <tr>\n",
        "      <th>25%</th>\n",
        "      <td> 5.940000e+07</td>\n",
        "      <td>      4.000000</td>\n",
        "      <td>       0.000000</td>\n",
        "      <td> 3.348000e+08</td>\n",
        "    </tr>\n",
        "    <tr>\n",
        "      <th>50%</th>\n",
        "      <td> 6.496500e+08</td>\n",
        "      <td>      6.000000</td>\n",
        "      <td>       0.552006</td>\n",
        "      <td> 3.600000e+09</td>\n",
        "    </tr>\n",
        "    <tr>\n",
        "      <th>75%</th>\n",
        "      <td> 7.638750e+09</td>\n",
        "      <td>      7.000000</td>\n",
        "      <td>      11.220987</td>\n",
        "      <td> 4.151970e+10</td>\n",
        "    </tr>\n",
        "    <tr>\n",
        "      <th>max</th>\n",
        "      <td> 4.548026e+14</td>\n",
        "      <td>     15.000000</td>\n",
        "      <td> 1665038.500000</td>\n",
        "      <td> 1.263103e+15</td>\n",
        "    </tr>\n",
        "  </tbody>\n",
        "</table>\n",
        "<p>8 rows \u00d7 4 columns</p>\n",
        "</div>"
       ],
       "metadata": {},
       "output_type": "pyout",
       "prompt_number": 4,
       "text": [
        "              speed           hops            cost      hopspeed\n",
        "count  6.366340e+05  636634.000000   636634.000000  6.366340e+05\n",
        "mean   2.251118e+11       5.837318      686.677007  8.958334e+11\n",
        "std    3.241939e+12       2.052375    11434.580481  1.076409e+13\n",
        "min    9.375000e+04       2.000000        0.000000  3.750000e+05\n",
        "25%    5.940000e+07       4.000000        0.000000  3.348000e+08\n",
        "50%    6.496500e+08       6.000000        0.552006  3.600000e+09\n",
        "75%    7.638750e+09       7.000000       11.220987  4.151970e+10\n",
        "max    4.548026e+14      15.000000  1665038.500000  1.263103e+15\n",
        "\n",
        "[8 rows x 4 columns]"
       ]
      }
     ],
     "prompt_number": 4
    },
    {
     "cell_type": "markdown",
     "metadata": {},
     "source": [
      "A top level segmentation for dividing on-net and off-net flows, separate models should be considered for each. \n",
      "\n",
      "Directions have been used to assign costs based on which entity is nearest to the sampling router. So for Direction=1 cost is attributed to the ingress entity, and similarly Direction=2 represents costs attributed to the egress entity. The data has been validated on both directions with sampling bias corrected for an error of upto 5%."
     ]
    },
    {
     "cell_type": "code",
     "collapsed": false,
     "input": [
      "# break data into disjoint sets\n",
      "\n",
      "ondir1 = master[master['onOff'] == 1][master['direction'] == 1]\n",
      "ondir2 = master[master['onOff'] == 1][master['direction'] == 2]\n",
      "offdir1 = master[master['onOff'] == 0][master['direction'] == 1]\n",
      "offdir2 = master[master['onOff'] == 0][master['direction'] == 2]\n",
      "\n",
      "# build Traffic, Hops, and Cost matrices\n",
      "\n",
      "on1_matrix = pivot_table(ondir1, rows=['inCountry','inRegion','inPOP','inRTR','inASN'], cols=['egCountry','egRegion','egPOP','c(hops)','egRTR','egASN'],values = ['hops','cost','speed','hopspeed','cost/hop','cost/bps'])\n",
      "on2_matrix = pivot_table(ondir2, cols=['inCountry','inRegion','inPOP','c(hops)','inRTR','inASN'], rows=['egCountry','egRegion','egPOP','egRTR','egASN'],values = ['hops','cost','speed','hopspeed','cost/hop','cost/bps'])\n",
      "off1_matrix = pivot_table(offdir1, rows=['inCountry','inRegion','inPOP','inRTR','inASN'], cols=['egCountry','egRegion','egPOP','c(hops)','egRTR','egASN'],values = ['hops','cost','speed','hopspeed','cost/hop','cost/bps'])\n",
      "off2_matrix = pivot_table(offdir2, cols=['inCountry','inRegion','inPOP','c(hops)','inRTR','inASN'], rows=['egCountry','egRegion','egPOP','egRTR','egASN'],values = ['hops','cost','speed','hopspeed','cost/hop','cost/bps'])"
     ],
     "language": "python",
     "metadata": {},
     "outputs": [
      {
       "output_type": "stream",
       "stream": "stderr",
       "text": [
        "/Users/anant.malhotra/anaconda/envs/scientific0.1/lib/python2.7/site-packages/pandas/core/frame.py:1686: UserWarning: Boolean Series key will be reindexed to match DataFrame index.\n",
        "  \"DataFrame index.\", UserWarning)\n"
       ]
      }
     ],
     "prompt_number": 5
    },
    {
     "cell_type": "markdown",
     "metadata": {},
     "source": [
      "A final aggregation step on the various metrics considered above."
     ]
    },
    {
     "cell_type": "code",
     "collapsed": false,
     "input": [
      "# combine directions for Onnet, Offnet separately\n",
      "\n",
      "on_matrix = on1_matrix[['cost','speed','hopspeed']].add(on2_matrix[['cost','speed','hopspeed']], fill_value=0)\n",
      "off_matrix = off1_matrix[['cost','speed','hopspeed']].add(off2_matrix[['cost','speed','hopspeed']], fill_value=0)\n",
      "\n",
      "# adding Hops\n",
      "\n",
      "on_matrix = pd.concat({\"hops\":on1_matrix['hops'].combine_first(on2_matrix['hops'])},axis=1).join(on_matrix,how=\"inner\")\n",
      "off_matrix = pd.concat({\"hops\":off1_matrix['hops'].combine_first(off2_matrix['hops'])},axis=1).join(off_matrix,how=\"inner\")"
     ],
     "language": "python",
     "metadata": {},
     "outputs": [],
     "prompt_number": 6
    },
    {
     "cell_type": "code",
     "collapsed": false,
     "input": [
      "# save the matrices\n",
      "\n",
      "on_matrix.to_pickle(\"on_matrix\")\n",
      "off_matrix.to_pickle(\"off_matrix\")"
     ],
     "language": "python",
     "metadata": {},
     "outputs": [],
     "prompt_number": 7
    }
   ],
   "metadata": {}
  }
 ]
}